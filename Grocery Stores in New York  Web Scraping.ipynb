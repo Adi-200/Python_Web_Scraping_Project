{
 "cells": [
  {
   "cell_type": "code",
   "execution_count": 57,
   "id": "5f0a11d3-3c95-4cda-aeaf-09d52c8c6df1",
   "metadata": {},
   "outputs": [],
   "source": [
    "import requests\n",
    "from bs4 import BeautifulSoup\n",
    "import re"
   ]
  },
  {
   "cell_type": "code",
   "execution_count": 58,
   "id": "c7dcd384-d434-4e30-9a5d-d75aeb0b1098",
   "metadata": {},
   "outputs": [],
   "source": [
    "page = requests.get(\"https://www.yellowpages.com/new-york-ny/grocery-stores\")\n",
    "soup = BeautifulSoup(page.content,'html.parser')                                   #PARSER IS FOR CHECKING IF THE DATAIS IN HTML FORMAT"
   ]
  },
  {
   "cell_type": "code",
   "execution_count": 59,
   "id": "bf7ab3b8-9071-45d3-a6fc-52423a9eee76",
   "metadata": {},
   "outputs": [
    {
     "name": "stdout",
     "output_type": "stream",
     "text": [
      "[\"Trader Joe's\", 'Pathmark', 'Whole Foods Market', 'Pioneer Supermarket', 'The Food Emporium', 'Morton Williams Supermarkets', 'Big Market', 'Pioneer Supermarket', 'Food City', 'New Lung Hing Market Incorpora', 'Tak Yee Fong Inc', 'Ammirati', 'Central Market', \"D'agostino's\", '765 Sixth Avenue Market', 'Well Green Market', 'Red Apple Supermarkets', 'Lb Deli Grocery', 'Fine Fare Supermarket', 'Manhattan Food Market', 'Urban Market', 'Fine Fare Supermarket', 'Chang Shun Market Inc', 'International Fine Fare Supermarkets', 'Jubilee Marketplace', 'Amish Market Tribeca', 'City Acres Market', \"Smith's Food & Drug\", 'Wegmans', 'Lifethyme']\n"
     ]
    }
   ],
   "source": [
    "def clean_text(text):\n",
    "    # Remove extra spaces, line breaks, and tabs\n",
    "    text = re.sub(r'\\s+', ' ', text).strip()\n",
    "    return text\n",
    "\n",
    "# Extract shop names\n",
    "Shop_name_tags = soup.select(\".business-name\")\n",
    "Shop_name = [clean_text(i.get_text()) for i in Shop_name_tags]\n",
    "print(Shop_name[:30])"
   ]
  },
  {
   "cell_type": "code",
   "execution_count": 60,
   "id": "c4ba9798-5968-4a58-89d7-403555b5f7b2",
   "metadata": {},
   "outputs": [
    {
     "data": {
      "text/plain": [
       "30"
      ]
     },
     "execution_count": 60,
     "metadata": {},
     "output_type": "execute_result"
    }
   ],
   "source": [
    "len(Shop_name[:30])"
   ]
  },
  {
   "cell_type": "code",
   "execution_count": 61,
   "id": "054ca7fd-53d2-4a3a-bd85-972e64c7eac2",
   "metadata": {},
   "outputs": [
    {
     "name": "stdout",
     "output_type": "stream",
     "text": [
      "['Grocery StoresNatural Foods', 'Grocery StoresSupermarkets & Super Stores', 'Grocery StoresFruit & Vegetable MarketsHealth & Diet Food Products', 'Grocery Stores', 'Grocery StoresSupermarkets & Super Stores', 'Grocery StoresFish & Seafood MarketsMeat Markets', 'Grocery Stores', 'Grocery StoresSupermarkets & Super Stores', 'Grocery StoresSupermarkets & Super Stores', 'Grocery Stores', 'Grocery Stores', 'Grocery Stores', 'Grocery StoresFlorists', 'Grocery StoresOnline & Mail Order ShoppingSupermarkets & Super Stores', 'Grocery StoresSupermarkets & Super Stores', 'Grocery StoresSupermarkets & Super Stores', 'Grocery Stores', 'Grocery StoresConvenience Stores', 'Grocery StoresSupermarkets & Super Stores', 'Grocery StoresSupermarkets & Super Stores', 'Grocery StoresSupermarkets & Super Stores', 'Grocery StoresSupermarkets & Super Stores', 'Grocery StoresSupermarkets & Super Stores', 'Grocery StoresSupermarkets & Super Stores', 'Grocery StoresSupermarkets & Super Stores', 'Grocery StoresGourmet ShopsWholesale Grocers', 'Grocery StoresSupermarkets & Super Stores', 'Grocery StoresSupermarkets & Super Stores', 'Grocery StoresSupermarkets & Super Stores', 'Grocery StoresHealth & Diet Food ProductsGrocers-Specialty Foods']\n"
     ]
    }
   ],
   "source": [
    "Shop_types = soup.select(\".categories\")\n",
    "Shop_type = []\n",
    "for i in Shop_types:\n",
    "    Shop_type.append(clean_text(i.get_text()))\n",
    "print(Shop_type[:30])"
   ]
  },
  {
   "cell_type": "code",
   "execution_count": 62,
   "id": "b9de436f-845a-41c4-89c9-8787ed5ecdbf",
   "metadata": {},
   "outputs": [
    {
     "data": {
      "text/plain": [
       "30"
      ]
     },
     "execution_count": 62,
     "metadata": {},
     "output_type": "execute_result"
    }
   ],
   "source": [
    "len(Shop_type[:30])"
   ]
  },
  {
   "cell_type": "code",
   "execution_count": 63,
   "id": "4c99a21c-676f-411f-bc6d-0d9c4e11914e",
   "metadata": {},
   "outputs": [
    {
     "name": "stdout",
     "output_type": "stream",
     "text": [
      "['675 Avenue Of The Americas', '160 E 125th St', '270 Greenwich St', '311 E 23rd St', '810 8th Ave', '908 2nd Ave', '555 8th Ave', '289 Columbus Ave', '705 Columbus Ave', '51 E Broadway Frnt 5', '106 Canal St', '584 Broadway Rm 808', '4 South St', '666 Greenwich St Frnt 1', '765 Avenue Of The Americas', '1413 Avenue Of The Americas', '1891 3rd Ave', '349 E 109th St', '1718 Madison Ave', '507 Manhattan Ave', '402 W 47th St', '2330 1st Ave', '57 E Broadway', '4776 Broadway', '99 John St', '53 Park Pl', '70 Pine St', '79 Macdougal St', '499 Lafayette St', '410 Avenue Of The Americas']\n"
     ]
    }
   ],
   "source": [
    "address = soup.select(\".street-address\")\n",
    "Street_address = []\n",
    "for i in address:\n",
    "    Street_address.append(clean_text(i.get_text()))\n",
    "print(Street_address)"
   ]
  },
  {
   "cell_type": "code",
   "execution_count": 64,
   "id": "74191dac-6266-4649-8a1a-eb3792b979b4",
   "metadata": {},
   "outputs": [
    {
     "data": {
      "text/plain": [
       "30"
      ]
     },
     "execution_count": 64,
     "metadata": {},
     "output_type": "execute_result"
    }
   ],
   "source": [
    "len(Street_address)"
   ]
  },
  {
   "cell_type": "code",
   "execution_count": 65,
   "id": "841a150a-5c7f-49c5-9ae3-bae3c5391627",
   "metadata": {},
   "outputs": [
    {
     "name": "stdout",
     "output_type": "stream",
     "text": [
      "['New York, NY 10010', 'New York, NY 10035', 'New York, NY 10007', 'New York, NY 10010', 'New York, NY 10019', 'New York, NY 10017', 'New York, NY 10018', 'New York, NY 10023', 'New York, NY 10025', 'New York, NY 10002', 'New York, NY 10002', 'New York, NY 10012', 'New York, NY 10004', 'New York, NY 10014', 'New York, NY 10010', 'New York, NY 10019', 'New York, NY 10029', 'New York, NY 10029', 'New York, NY 10029', 'New York, NY 10027', 'New York, NY 10036', 'New York, NY 10035', 'New York, NY 10002', 'New York, NY 10034', 'New York, NY 10038', 'New York, NY 10007', 'New York, NY 10005', 'New York, NY 10012', 'New York, NY 10003', 'New York, NY 10011']\n"
     ]
    }
   ],
   "source": [
    "locality = soup.select(\".locality\")\n",
    "locality\n",
    "Locality_add = []\n",
    "for i in locality:\n",
    "    Locality_add.append(clean_text(i.get_text()))\n",
    "print(Locality_add)"
   ]
  },
  {
   "cell_type": "code",
   "execution_count": 66,
   "id": "5ed50e37-693f-4c83-8bb1-e384b58922c7",
   "metadata": {},
   "outputs": [
    {
     "data": {
      "text/plain": [
       "30"
      ]
     },
     "execution_count": 66,
     "metadata": {},
     "output_type": "execute_result"
    }
   ],
   "source": [
    "len(Locality_add)"
   ]
  },
  {
   "cell_type": "code",
   "execution_count": 67,
   "id": "99ca0b0b-366b-49c9-97ff-3c22f9eb57e4",
   "metadata": {},
   "outputs": [
    {
     "name": "stdout",
     "output_type": "stream",
     "text": [
      "['(212) 255-2106', '(212) 722-9156', '(212) 349-6555', '(212) 689-9192', '(212) 977-1710', '(212) 308-6922', '(888) 828-9465', '(212) 874-9506', '(212) 222-6500', '(212) 374-9474', '(212) 925-3898', '(212) 925-2111', '(212) 514-5220', '(212) 463-7059', '(212) 229-0301', '(212) 588-5888', '(212) 580-6312', '(212) 426-6081', '(212) 360-7608', '(212) 663-2263', '(646) 964-4633', '(212) 410-1640', '(212) 349-8010', '(212) 304-1858', '(212) 233-0808', '(212) 608-3863', '(917) 261-4530', '(212) 260-0100', '(646) 225-9300', '(212) 420-1600']\n"
     ]
    }
   ],
   "source": [
    "phone = soup.select(\".phones.phone.primary\")\n",
    "Phone_number= []\n",
    "for i in phone:\n",
    "    Phone_number.append(clean_text(i.get_text()))\n",
    "print(Phone_number)"
   ]
  },
  {
   "cell_type": "code",
   "execution_count": 68,
   "id": "714c4836-3f19-455d-a55a-a6ad873ffb1b",
   "metadata": {},
   "outputs": [
    {
     "data": {
      "text/plain": [
       "30"
      ]
     },
     "execution_count": 68,
     "metadata": {},
     "output_type": "execute_result"
    }
   ],
   "source": [
    "len(Phone_number)"
   ]
  },
  {
   "cell_type": "code",
   "execution_count": 69,
   "id": "6415bad3-d2a8-45f0-80f3-84dea153a32c",
   "metadata": {},
   "outputs": [
    {
     "name": "stdout",
     "output_type": "stream",
     "text": [
      "['(212) 514-5220', '(212) 588-5888', '(212) 580-6312']\n"
     ]
    }
   ],
   "source": [
    "phone_numbers = [\n",
    "    '(212) 255-2106', '(212) 722-9156', '(212) 349-6555', '(212) 689-9192', '(212) 977-1710',\n",
    "    '(212) 308-6922', '(888) 828-9465', '(212) 874-9506', '(212) 222-6500', '(212) 374-9474',\n",
    "    '(212) 925-3898', '(212) 925-2111', '(212) 514-5220', '(212) 463-7059', '(212) 229-0301',\n",
    "    '(212) 588-5888', '(212) 580-6312', '(212) 426-6081', '(212) 360-7608', '(212) 663-2263',\n",
    "    '(646) 964-4633', '(212) 410-1640', '(212) 349-8010', '(212) 304-1858', '(212) 233-0808',\n",
    "    '(212) 608-3863', '(917) 261-4530', '(212) 260-0100', '(646) 225-9300', '(212) 420-1600'\n",
    "]\n",
    "\n",
    "# Regular expression to match phone numbers where the local part starts with '5'\n",
    "pattern = re.compile(r'\\(\\d{3}\\) 5\\d{2}-\\d{4}')\n",
    "\n",
    "# Filter phone numbers that match the pattern\n",
    "numbers_starting_with_5 = [number for number in phone_numbers if pattern.match(number)]\n",
    "\n",
    "print(numbers_starting_with_5)"
   ]
  },
  {
   "cell_type": "code",
   "execution_count": 70,
   "id": "b8c7435b-8dcd-4923-be7d-f42084abbecd",
   "metadata": {},
   "outputs": [
    {
     "data": {
      "text/html": [
       "<div>\n",
       "<style scoped>\n",
       "    .dataframe tbody tr th:only-of-type {\n",
       "        vertical-align: middle;\n",
       "    }\n",
       "\n",
       "    .dataframe tbody tr th {\n",
       "        vertical-align: top;\n",
       "    }\n",
       "\n",
       "    .dataframe thead th {\n",
       "        text-align: right;\n",
       "    }\n",
       "</style>\n",
       "<table border=\"1\" class=\"dataframe\">\n",
       "  <thead>\n",
       "    <tr style=\"text-align: right;\">\n",
       "      <th></th>\n",
       "      <th>Store Name</th>\n",
       "      <th>Store Type</th>\n",
       "      <th>Street Address</th>\n",
       "      <th>Locality</th>\n",
       "      <th>Contact No</th>\n",
       "    </tr>\n",
       "  </thead>\n",
       "  <tbody>\n",
       "    <tr>\n",
       "      <th>0</th>\n",
       "      <td>Trader Joe's</td>\n",
       "      <td>Grocery StoresNatural Foods</td>\n",
       "      <td>675 Avenue Of The Americas</td>\n",
       "      <td>New York, NY 10010</td>\n",
       "      <td>(212) 255-2106</td>\n",
       "    </tr>\n",
       "    <tr>\n",
       "      <th>1</th>\n",
       "      <td>Pathmark</td>\n",
       "      <td>Grocery StoresSupermarkets &amp; Super Stores</td>\n",
       "      <td>160 E 125th St</td>\n",
       "      <td>New York, NY 10035</td>\n",
       "      <td>(212) 722-9156</td>\n",
       "    </tr>\n",
       "    <tr>\n",
       "      <th>2</th>\n",
       "      <td>Whole Foods Market</td>\n",
       "      <td>Grocery StoresFruit &amp; Vegetable MarketsHealth ...</td>\n",
       "      <td>270 Greenwich St</td>\n",
       "      <td>New York, NY 10007</td>\n",
       "      <td>(212) 349-6555</td>\n",
       "    </tr>\n",
       "    <tr>\n",
       "      <th>3</th>\n",
       "      <td>Pioneer Supermarket</td>\n",
       "      <td>Grocery Stores</td>\n",
       "      <td>311 E 23rd St</td>\n",
       "      <td>New York, NY 10010</td>\n",
       "      <td>(212) 689-9192</td>\n",
       "    </tr>\n",
       "    <tr>\n",
       "      <th>4</th>\n",
       "      <td>The Food Emporium</td>\n",
       "      <td>Grocery StoresSupermarkets &amp; Super Stores</td>\n",
       "      <td>810 8th Ave</td>\n",
       "      <td>New York, NY 10019</td>\n",
       "      <td>(212) 977-1710</td>\n",
       "    </tr>\n",
       "    <tr>\n",
       "      <th>5</th>\n",
       "      <td>Morton Williams Supermarkets</td>\n",
       "      <td>Grocery StoresFish &amp; Seafood MarketsMeat Markets</td>\n",
       "      <td>908 2nd Ave</td>\n",
       "      <td>New York, NY 10017</td>\n",
       "      <td>(212) 308-6922</td>\n",
       "    </tr>\n",
       "    <tr>\n",
       "      <th>6</th>\n",
       "      <td>Big Market</td>\n",
       "      <td>Grocery Stores</td>\n",
       "      <td>555 8th Ave</td>\n",
       "      <td>New York, NY 10018</td>\n",
       "      <td>(888) 828-9465</td>\n",
       "    </tr>\n",
       "    <tr>\n",
       "      <th>7</th>\n",
       "      <td>Pioneer Supermarket</td>\n",
       "      <td>Grocery StoresSupermarkets &amp; Super Stores</td>\n",
       "      <td>289 Columbus Ave</td>\n",
       "      <td>New York, NY 10023</td>\n",
       "      <td>(212) 874-9506</td>\n",
       "    </tr>\n",
       "    <tr>\n",
       "      <th>8</th>\n",
       "      <td>Food City</td>\n",
       "      <td>Grocery StoresSupermarkets &amp; Super Stores</td>\n",
       "      <td>705 Columbus Ave</td>\n",
       "      <td>New York, NY 10025</td>\n",
       "      <td>(212) 222-6500</td>\n",
       "    </tr>\n",
       "    <tr>\n",
       "      <th>9</th>\n",
       "      <td>New Lung Hing Market Incorpora</td>\n",
       "      <td>Grocery Stores</td>\n",
       "      <td>51 E Broadway Frnt 5</td>\n",
       "      <td>New York, NY 10002</td>\n",
       "      <td>(212) 374-9474</td>\n",
       "    </tr>\n",
       "    <tr>\n",
       "      <th>10</th>\n",
       "      <td>Tak Yee Fong Inc</td>\n",
       "      <td>Grocery Stores</td>\n",
       "      <td>106 Canal St</td>\n",
       "      <td>New York, NY 10002</td>\n",
       "      <td>(212) 925-3898</td>\n",
       "    </tr>\n",
       "    <tr>\n",
       "      <th>11</th>\n",
       "      <td>Ammirati</td>\n",
       "      <td>Grocery Stores</td>\n",
       "      <td>584 Broadway Rm 808</td>\n",
       "      <td>New York, NY 10012</td>\n",
       "      <td>(212) 925-2111</td>\n",
       "    </tr>\n",
       "    <tr>\n",
       "      <th>12</th>\n",
       "      <td>Central Market</td>\n",
       "      <td>Grocery StoresFlorists</td>\n",
       "      <td>4 South St</td>\n",
       "      <td>New York, NY 10004</td>\n",
       "      <td>(212) 514-5220</td>\n",
       "    </tr>\n",
       "    <tr>\n",
       "      <th>13</th>\n",
       "      <td>D'agostino's</td>\n",
       "      <td>Grocery StoresOnline &amp; Mail Order ShoppingSupe...</td>\n",
       "      <td>666 Greenwich St Frnt 1</td>\n",
       "      <td>New York, NY 10014</td>\n",
       "      <td>(212) 463-7059</td>\n",
       "    </tr>\n",
       "    <tr>\n",
       "      <th>14</th>\n",
       "      <td>765 Sixth Avenue Market</td>\n",
       "      <td>Grocery StoresSupermarkets &amp; Super Stores</td>\n",
       "      <td>765 Avenue Of The Americas</td>\n",
       "      <td>New York, NY 10010</td>\n",
       "      <td>(212) 229-0301</td>\n",
       "    </tr>\n",
       "    <tr>\n",
       "      <th>15</th>\n",
       "      <td>Well Green Market</td>\n",
       "      <td>Grocery StoresSupermarkets &amp; Super Stores</td>\n",
       "      <td>1413 Avenue Of The Americas</td>\n",
       "      <td>New York, NY 10019</td>\n",
       "      <td>(212) 588-5888</td>\n",
       "    </tr>\n",
       "    <tr>\n",
       "      <th>16</th>\n",
       "      <td>Red Apple Supermarkets</td>\n",
       "      <td>Grocery Stores</td>\n",
       "      <td>1891 3rd Ave</td>\n",
       "      <td>New York, NY 10029</td>\n",
       "      <td>(212) 580-6312</td>\n",
       "    </tr>\n",
       "    <tr>\n",
       "      <th>17</th>\n",
       "      <td>Lb Deli Grocery</td>\n",
       "      <td>Grocery StoresConvenience Stores</td>\n",
       "      <td>349 E 109th St</td>\n",
       "      <td>New York, NY 10029</td>\n",
       "      <td>(212) 426-6081</td>\n",
       "    </tr>\n",
       "    <tr>\n",
       "      <th>18</th>\n",
       "      <td>Fine Fare Supermarket</td>\n",
       "      <td>Grocery StoresSupermarkets &amp; Super Stores</td>\n",
       "      <td>1718 Madison Ave</td>\n",
       "      <td>New York, NY 10029</td>\n",
       "      <td>(212) 360-7608</td>\n",
       "    </tr>\n",
       "    <tr>\n",
       "      <th>19</th>\n",
       "      <td>Manhattan Food Market</td>\n",
       "      <td>Grocery StoresSupermarkets &amp; Super Stores</td>\n",
       "      <td>507 Manhattan Ave</td>\n",
       "      <td>New York, NY 10027</td>\n",
       "      <td>(212) 663-2263</td>\n",
       "    </tr>\n",
       "    <tr>\n",
       "      <th>20</th>\n",
       "      <td>Urban Market</td>\n",
       "      <td>Grocery StoresSupermarkets &amp; Super Stores</td>\n",
       "      <td>402 W 47th St</td>\n",
       "      <td>New York, NY 10036</td>\n",
       "      <td>(646) 964-4633</td>\n",
       "    </tr>\n",
       "    <tr>\n",
       "      <th>21</th>\n",
       "      <td>Fine Fare Supermarket</td>\n",
       "      <td>Grocery StoresSupermarkets &amp; Super Stores</td>\n",
       "      <td>2330 1st Ave</td>\n",
       "      <td>New York, NY 10035</td>\n",
       "      <td>(212) 410-1640</td>\n",
       "    </tr>\n",
       "    <tr>\n",
       "      <th>22</th>\n",
       "      <td>Chang Shun Market Inc</td>\n",
       "      <td>Grocery StoresSupermarkets &amp; Super Stores</td>\n",
       "      <td>57 E Broadway</td>\n",
       "      <td>New York, NY 10002</td>\n",
       "      <td>(212) 349-8010</td>\n",
       "    </tr>\n",
       "    <tr>\n",
       "      <th>23</th>\n",
       "      <td>International Fine Fare Supermarkets</td>\n",
       "      <td>Grocery StoresSupermarkets &amp; Super Stores</td>\n",
       "      <td>4776 Broadway</td>\n",
       "      <td>New York, NY 10034</td>\n",
       "      <td>(212) 304-1858</td>\n",
       "    </tr>\n",
       "    <tr>\n",
       "      <th>24</th>\n",
       "      <td>Jubilee Marketplace</td>\n",
       "      <td>Grocery StoresSupermarkets &amp; Super Stores</td>\n",
       "      <td>99 John St</td>\n",
       "      <td>New York, NY 10038</td>\n",
       "      <td>(212) 233-0808</td>\n",
       "    </tr>\n",
       "    <tr>\n",
       "      <th>25</th>\n",
       "      <td>Amish Market Tribeca</td>\n",
       "      <td>Grocery StoresGourmet ShopsWholesale Grocers</td>\n",
       "      <td>53 Park Pl</td>\n",
       "      <td>New York, NY 10007</td>\n",
       "      <td>(212) 608-3863</td>\n",
       "    </tr>\n",
       "    <tr>\n",
       "      <th>26</th>\n",
       "      <td>City Acres Market</td>\n",
       "      <td>Grocery StoresSupermarkets &amp; Super Stores</td>\n",
       "      <td>70 Pine St</td>\n",
       "      <td>New York, NY 10005</td>\n",
       "      <td>(917) 261-4530</td>\n",
       "    </tr>\n",
       "    <tr>\n",
       "      <th>27</th>\n",
       "      <td>Smith's Food &amp; Drug</td>\n",
       "      <td>Grocery StoresSupermarkets &amp; Super Stores</td>\n",
       "      <td>79 Macdougal St</td>\n",
       "      <td>New York, NY 10012</td>\n",
       "      <td>(212) 260-0100</td>\n",
       "    </tr>\n",
       "    <tr>\n",
       "      <th>28</th>\n",
       "      <td>Wegmans</td>\n",
       "      <td>Grocery StoresSupermarkets &amp; Super Stores</td>\n",
       "      <td>499 Lafayette St</td>\n",
       "      <td>New York, NY 10003</td>\n",
       "      <td>(646) 225-9300</td>\n",
       "    </tr>\n",
       "    <tr>\n",
       "      <th>29</th>\n",
       "      <td>Lifethyme</td>\n",
       "      <td>Grocery StoresHealth &amp; Diet Food ProductsGroce...</td>\n",
       "      <td>410 Avenue Of The Americas</td>\n",
       "      <td>New York, NY 10011</td>\n",
       "      <td>(212) 420-1600</td>\n",
       "    </tr>\n",
       "  </tbody>\n",
       "</table>\n",
       "</div>"
      ],
      "text/plain": [
       "                              Store Name  \\\n",
       "0                           Trader Joe's   \n",
       "1                               Pathmark   \n",
       "2                     Whole Foods Market   \n",
       "3                    Pioneer Supermarket   \n",
       "4                      The Food Emporium   \n",
       "5           Morton Williams Supermarkets   \n",
       "6                             Big Market   \n",
       "7                    Pioneer Supermarket   \n",
       "8                              Food City   \n",
       "9         New Lung Hing Market Incorpora   \n",
       "10                      Tak Yee Fong Inc   \n",
       "11                              Ammirati   \n",
       "12                        Central Market   \n",
       "13                          D'agostino's   \n",
       "14               765 Sixth Avenue Market   \n",
       "15                     Well Green Market   \n",
       "16                Red Apple Supermarkets   \n",
       "17                       Lb Deli Grocery   \n",
       "18                 Fine Fare Supermarket   \n",
       "19                 Manhattan Food Market   \n",
       "20                          Urban Market   \n",
       "21                 Fine Fare Supermarket   \n",
       "22                 Chang Shun Market Inc   \n",
       "23  International Fine Fare Supermarkets   \n",
       "24                   Jubilee Marketplace   \n",
       "25                  Amish Market Tribeca   \n",
       "26                     City Acres Market   \n",
       "27                   Smith's Food & Drug   \n",
       "28                               Wegmans   \n",
       "29                             Lifethyme   \n",
       "\n",
       "                                           Store Type  \\\n",
       "0                         Grocery StoresNatural Foods   \n",
       "1           Grocery StoresSupermarkets & Super Stores   \n",
       "2   Grocery StoresFruit & Vegetable MarketsHealth ...   \n",
       "3                                      Grocery Stores   \n",
       "4           Grocery StoresSupermarkets & Super Stores   \n",
       "5    Grocery StoresFish & Seafood MarketsMeat Markets   \n",
       "6                                      Grocery Stores   \n",
       "7           Grocery StoresSupermarkets & Super Stores   \n",
       "8           Grocery StoresSupermarkets & Super Stores   \n",
       "9                                      Grocery Stores   \n",
       "10                                     Grocery Stores   \n",
       "11                                     Grocery Stores   \n",
       "12                             Grocery StoresFlorists   \n",
       "13  Grocery StoresOnline & Mail Order ShoppingSupe...   \n",
       "14          Grocery StoresSupermarkets & Super Stores   \n",
       "15          Grocery StoresSupermarkets & Super Stores   \n",
       "16                                     Grocery Stores   \n",
       "17                   Grocery StoresConvenience Stores   \n",
       "18          Grocery StoresSupermarkets & Super Stores   \n",
       "19          Grocery StoresSupermarkets & Super Stores   \n",
       "20          Grocery StoresSupermarkets & Super Stores   \n",
       "21          Grocery StoresSupermarkets & Super Stores   \n",
       "22          Grocery StoresSupermarkets & Super Stores   \n",
       "23          Grocery StoresSupermarkets & Super Stores   \n",
       "24          Grocery StoresSupermarkets & Super Stores   \n",
       "25       Grocery StoresGourmet ShopsWholesale Grocers   \n",
       "26          Grocery StoresSupermarkets & Super Stores   \n",
       "27          Grocery StoresSupermarkets & Super Stores   \n",
       "28          Grocery StoresSupermarkets & Super Stores   \n",
       "29  Grocery StoresHealth & Diet Food ProductsGroce...   \n",
       "\n",
       "                 Street Address            Locality      Contact No  \n",
       "0    675 Avenue Of The Americas  New York, NY 10010  (212) 255-2106  \n",
       "1                160 E 125th St  New York, NY 10035  (212) 722-9156  \n",
       "2              270 Greenwich St  New York, NY 10007  (212) 349-6555  \n",
       "3                 311 E 23rd St  New York, NY 10010  (212) 689-9192  \n",
       "4                   810 8th Ave  New York, NY 10019  (212) 977-1710  \n",
       "5                   908 2nd Ave  New York, NY 10017  (212) 308-6922  \n",
       "6                   555 8th Ave  New York, NY 10018  (888) 828-9465  \n",
       "7              289 Columbus Ave  New York, NY 10023  (212) 874-9506  \n",
       "8              705 Columbus Ave  New York, NY 10025  (212) 222-6500  \n",
       "9          51 E Broadway Frnt 5  New York, NY 10002  (212) 374-9474  \n",
       "10                 106 Canal St  New York, NY 10002  (212) 925-3898  \n",
       "11          584 Broadway Rm 808  New York, NY 10012  (212) 925-2111  \n",
       "12                   4 South St  New York, NY 10004  (212) 514-5220  \n",
       "13      666 Greenwich St Frnt 1  New York, NY 10014  (212) 463-7059  \n",
       "14   765 Avenue Of The Americas  New York, NY 10010  (212) 229-0301  \n",
       "15  1413 Avenue Of The Americas  New York, NY 10019  (212) 588-5888  \n",
       "16                 1891 3rd Ave  New York, NY 10029  (212) 580-6312  \n",
       "17               349 E 109th St  New York, NY 10029  (212) 426-6081  \n",
       "18             1718 Madison Ave  New York, NY 10029  (212) 360-7608  \n",
       "19            507 Manhattan Ave  New York, NY 10027  (212) 663-2263  \n",
       "20                402 W 47th St  New York, NY 10036  (646) 964-4633  \n",
       "21                 2330 1st Ave  New York, NY 10035  (212) 410-1640  \n",
       "22                57 E Broadway  New York, NY 10002  (212) 349-8010  \n",
       "23                4776 Broadway  New York, NY 10034  (212) 304-1858  \n",
       "24                   99 John St  New York, NY 10038  (212) 233-0808  \n",
       "25                   53 Park Pl  New York, NY 10007  (212) 608-3863  \n",
       "26                   70 Pine St  New York, NY 10005  (917) 261-4530  \n",
       "27              79 Macdougal St  New York, NY 10012  (212) 260-0100  \n",
       "28             499 Lafayette St  New York, NY 10003  (646) 225-9300  \n",
       "29   410 Avenue Of The Americas  New York, NY 10011  (212) 420-1600  "
      ]
     },
     "execution_count": 70,
     "metadata": {},
     "output_type": "execute_result"
    }
   ],
   "source": [
    "import pandas as pd\n",
    "df = pd.DataFrame({\"Store Name\":Shop_name[:30],\"Store Type\":Shop_type[:30],\"Street Address\":Street_address,\"Locality\":Locality_add,\"Contact No\":Phone_number})\n",
    "df"
   ]
  },
  {
   "cell_type": "code",
   "execution_count": 76,
   "id": "54e2c806-b9b7-4438-b359-348854f188aa",
   "metadata": {},
   "outputs": [],
   "source": [
    "df.to_csv(\"Grocery Stores In NewYork.csv\",index = False)"
   ]
  },
  {
   "cell_type": "code",
   "execution_count": 77,
   "id": "825569ca-4f5b-40f3-8727-7e1ad277b619",
   "metadata": {},
   "outputs": [],
   "source": [
    "df = pd.read_csv(\"Grocery Stores In NewYork.csv\")"
   ]
  },
  {
   "cell_type": "code",
   "execution_count": 48,
   "id": "b0069b13-aad3-4093-9f7a-5df19fbd710b",
   "metadata": {},
   "outputs": [
    {
     "data": {
      "text/html": [
       "<div>\n",
       "<style scoped>\n",
       "    .dataframe tbody tr th:only-of-type {\n",
       "        vertical-align: middle;\n",
       "    }\n",
       "\n",
       "    .dataframe tbody tr th {\n",
       "        vertical-align: top;\n",
       "    }\n",
       "\n",
       "    .dataframe thead th {\n",
       "        text-align: right;\n",
       "    }\n",
       "</style>\n",
       "<table border=\"1\" class=\"dataframe\">\n",
       "  <thead>\n",
       "    <tr style=\"text-align: right;\">\n",
       "      <th></th>\n",
       "      <th>Store Name</th>\n",
       "      <th>Store Type</th>\n",
       "      <th>Street Address</th>\n",
       "      <th>Locality</th>\n",
       "      <th>Contact No</th>\n",
       "    </tr>\n",
       "  </thead>\n",
       "  <tbody>\n",
       "    <tr>\n",
       "      <th>0</th>\n",
       "      <td>Trader Joe's</td>\n",
       "      <td>Grocery StoresNatural Foods</td>\n",
       "      <td>675 Avenue Of The Americas</td>\n",
       "      <td>New York, NY 10010</td>\n",
       "      <td>(212) 255-2106</td>\n",
       "    </tr>\n",
       "    <tr>\n",
       "      <th>1</th>\n",
       "      <td>Pathmark</td>\n",
       "      <td>Grocery StoresSupermarkets &amp; Super Stores</td>\n",
       "      <td>160 E 125th St</td>\n",
       "      <td>New York, NY 10035</td>\n",
       "      <td>(212) 722-9156</td>\n",
       "    </tr>\n",
       "    <tr>\n",
       "      <th>2</th>\n",
       "      <td>Whole Foods Market</td>\n",
       "      <td>Grocery StoresFruit &amp; Vegetable MarketsHealth ...</td>\n",
       "      <td>270 Greenwich St</td>\n",
       "      <td>New York, NY 10007</td>\n",
       "      <td>(212) 349-6555</td>\n",
       "    </tr>\n",
       "    <tr>\n",
       "      <th>3</th>\n",
       "      <td>Pioneer Supermarket</td>\n",
       "      <td>Grocery Stores</td>\n",
       "      <td>311 E 23rd St</td>\n",
       "      <td>New York, NY 10010</td>\n",
       "      <td>(212) 689-9192</td>\n",
       "    </tr>\n",
       "    <tr>\n",
       "      <th>4</th>\n",
       "      <td>The Food Emporium</td>\n",
       "      <td>Grocery StoresSupermarkets &amp; Super Stores</td>\n",
       "      <td>810 8th Ave</td>\n",
       "      <td>New York, NY 10019</td>\n",
       "      <td>(212) 977-1710</td>\n",
       "    </tr>\n",
       "  </tbody>\n",
       "</table>\n",
       "</div>"
      ],
      "text/plain": [
       "            Store Name                                         Store Type  \\\n",
       "0         Trader Joe's                        Grocery StoresNatural Foods   \n",
       "1             Pathmark          Grocery StoresSupermarkets & Super Stores   \n",
       "2   Whole Foods Market  Grocery StoresFruit & Vegetable MarketsHealth ...   \n",
       "3  Pioneer Supermarket                                     Grocery Stores   \n",
       "4    The Food Emporium          Grocery StoresSupermarkets & Super Stores   \n",
       "\n",
       "               Street Address            Locality      Contact No  \n",
       "0  675 Avenue Of The Americas  New York, NY 10010  (212) 255-2106  \n",
       "1              160 E 125th St  New York, NY 10035  (212) 722-9156  \n",
       "2            270 Greenwich St  New York, NY 10007  (212) 349-6555  \n",
       "3               311 E 23rd St  New York, NY 10010  (212) 689-9192  \n",
       "4                 810 8th Ave  New York, NY 10019  (212) 977-1710  "
      ]
     },
     "execution_count": 48,
     "metadata": {},
     "output_type": "execute_result"
    }
   ],
   "source": [
    "df.head()"
   ]
  },
  {
   "cell_type": "code",
   "execution_count": 54,
   "id": "bee6a1dc-8cd3-44e8-9446-21ff97e9e5b8",
   "metadata": {},
   "outputs": [
    {
     "data": {
      "text/html": [
       "<div>\n",
       "<style scoped>\n",
       "    .dataframe tbody tr th:only-of-type {\n",
       "        vertical-align: middle;\n",
       "    }\n",
       "\n",
       "    .dataframe tbody tr th {\n",
       "        vertical-align: top;\n",
       "    }\n",
       "\n",
       "    .dataframe thead th {\n",
       "        text-align: right;\n",
       "    }\n",
       "</style>\n",
       "<table border=\"1\" class=\"dataframe\">\n",
       "  <thead>\n",
       "    <tr style=\"text-align: right;\">\n",
       "      <th></th>\n",
       "      <th>Store Name</th>\n",
       "      <th>Store Type</th>\n",
       "      <th>Street Address</th>\n",
       "      <th>Locality</th>\n",
       "      <th>Contact No</th>\n",
       "    </tr>\n",
       "  </thead>\n",
       "  <tbody>\n",
       "    <tr>\n",
       "      <th>25</th>\n",
       "      <td>Amish Market Tribeca</td>\n",
       "      <td>Grocery StoresGourmet ShopsWholesale Grocers</td>\n",
       "      <td>53 Park Pl</td>\n",
       "      <td>New York, NY 10007</td>\n",
       "      <td>(212) 608-3863</td>\n",
       "    </tr>\n",
       "    <tr>\n",
       "      <th>26</th>\n",
       "      <td>City Acres Market</td>\n",
       "      <td>Grocery StoresSupermarkets &amp; Super Stores</td>\n",
       "      <td>70 Pine St</td>\n",
       "      <td>New York, NY 10005</td>\n",
       "      <td>(917) 261-4530</td>\n",
       "    </tr>\n",
       "    <tr>\n",
       "      <th>27</th>\n",
       "      <td>Smith's Food &amp; Drug</td>\n",
       "      <td>Grocery StoresSupermarkets &amp; Super Stores</td>\n",
       "      <td>79 Macdougal St</td>\n",
       "      <td>New York, NY 10012</td>\n",
       "      <td>(212) 260-0100</td>\n",
       "    </tr>\n",
       "    <tr>\n",
       "      <th>28</th>\n",
       "      <td>Wegmans</td>\n",
       "      <td>Grocery StoresSupermarkets &amp; Super Stores</td>\n",
       "      <td>499 Lafayette St</td>\n",
       "      <td>New York, NY 10003</td>\n",
       "      <td>(646) 225-9300</td>\n",
       "    </tr>\n",
       "    <tr>\n",
       "      <th>29</th>\n",
       "      <td>Lifethyme</td>\n",
       "      <td>Grocery StoresHealth &amp; Diet Food ProductsGroce...</td>\n",
       "      <td>410 Avenue Of The Americas</td>\n",
       "      <td>New York, NY 10011</td>\n",
       "      <td>(212) 420-1600</td>\n",
       "    </tr>\n",
       "  </tbody>\n",
       "</table>\n",
       "</div>"
      ],
      "text/plain": [
       "              Store Name                                         Store Type  \\\n",
       "25  Amish Market Tribeca       Grocery StoresGourmet ShopsWholesale Grocers   \n",
       "26     City Acres Market          Grocery StoresSupermarkets & Super Stores   \n",
       "27   Smith's Food & Drug          Grocery StoresSupermarkets & Super Stores   \n",
       "28               Wegmans          Grocery StoresSupermarkets & Super Stores   \n",
       "29             Lifethyme  Grocery StoresHealth & Diet Food ProductsGroce...   \n",
       "\n",
       "                Street Address            Locality      Contact No  \n",
       "25                  53 Park Pl  New York, NY 10007  (212) 608-3863  \n",
       "26                  70 Pine St  New York, NY 10005  (917) 261-4530  \n",
       "27             79 Macdougal St  New York, NY 10012  (212) 260-0100  \n",
       "28            499 Lafayette St  New York, NY 10003  (646) 225-9300  \n",
       "29  410 Avenue Of The Americas  New York, NY 10011  (212) 420-1600  "
      ]
     },
     "execution_count": 54,
     "metadata": {},
     "output_type": "execute_result"
    }
   ],
   "source": [
    "df.tail()"
   ]
  },
  {
   "cell_type": "code",
   "execution_count": 55,
   "id": "801f4fa8-db16-404f-bf26-8e36f44d1279",
   "metadata": {},
   "outputs": [
    {
     "data": {
      "text/html": [
       "<div>\n",
       "<style scoped>\n",
       "    .dataframe tbody tr th:only-of-type {\n",
       "        vertical-align: middle;\n",
       "    }\n",
       "\n",
       "    .dataframe tbody tr th {\n",
       "        vertical-align: top;\n",
       "    }\n",
       "\n",
       "    .dataframe thead th {\n",
       "        text-align: right;\n",
       "    }\n",
       "</style>\n",
       "<table border=\"1\" class=\"dataframe\">\n",
       "  <thead>\n",
       "    <tr style=\"text-align: right;\">\n",
       "      <th></th>\n",
       "      <th>Store Name</th>\n",
       "      <th>Store Type</th>\n",
       "      <th>Street Address</th>\n",
       "      <th>Locality</th>\n",
       "      <th>Contact No</th>\n",
       "    </tr>\n",
       "  </thead>\n",
       "  <tbody>\n",
       "    <tr>\n",
       "      <th>count</th>\n",
       "      <td>30</td>\n",
       "      <td>30</td>\n",
       "      <td>30</td>\n",
       "      <td>30</td>\n",
       "      <td>30</td>\n",
       "    </tr>\n",
       "    <tr>\n",
       "      <th>unique</th>\n",
       "      <td>28</td>\n",
       "      <td>10</td>\n",
       "      <td>30</td>\n",
       "      <td>20</td>\n",
       "      <td>30</td>\n",
       "    </tr>\n",
       "    <tr>\n",
       "      <th>top</th>\n",
       "      <td>Pioneer Supermarket</td>\n",
       "      <td>Grocery StoresSupermarkets &amp; Super Stores</td>\n",
       "      <td>675 Avenue Of The Americas</td>\n",
       "      <td>New York, NY 10010</td>\n",
       "      <td>(212) 255-2106</td>\n",
       "    </tr>\n",
       "    <tr>\n",
       "      <th>freq</th>\n",
       "      <td>2</td>\n",
       "      <td>16</td>\n",
       "      <td>1</td>\n",
       "      <td>3</td>\n",
       "      <td>1</td>\n",
       "    </tr>\n",
       "  </tbody>\n",
       "</table>\n",
       "</div>"
      ],
      "text/plain": [
       "                 Store Name                                 Store Type  \\\n",
       "count                    30                                         30   \n",
       "unique                   28                                         10   \n",
       "top     Pioneer Supermarket  Grocery StoresSupermarkets & Super Stores   \n",
       "freq                      2                                         16   \n",
       "\n",
       "                    Street Address            Locality      Contact No  \n",
       "count                           30                  30              30  \n",
       "unique                          30                  20              30  \n",
       "top     675 Avenue Of The Americas  New York, NY 10010  (212) 255-2106  \n",
       "freq                             1                   3               1  "
      ]
     },
     "execution_count": 55,
     "metadata": {},
     "output_type": "execute_result"
    }
   ],
   "source": [
    "df.describe()"
   ]
  },
  {
   "cell_type": "code",
   "execution_count": 56,
   "id": "065be447-f625-4668-a4ad-9e806ff1475a",
   "metadata": {},
   "outputs": [
    {
     "name": "stdout",
     "output_type": "stream",
     "text": [
      "<class 'pandas.core.frame.DataFrame'>\n",
      "RangeIndex: 30 entries, 0 to 29\n",
      "Data columns (total 5 columns):\n",
      " #   Column          Non-Null Count  Dtype \n",
      "---  ------          --------------  ----- \n",
      " 0   Store Name      30 non-null     object\n",
      " 1   Store Type      30 non-null     object\n",
      " 2   Street Address  30 non-null     object\n",
      " 3   Locality        30 non-null     object\n",
      " 4   Contact No      30 non-null     object\n",
      "dtypes: object(5)\n",
      "memory usage: 1.3+ KB\n"
     ]
    }
   ],
   "source": [
    "df.info()"
   ]
  },
  {
   "cell_type": "code",
   "execution_count": null,
   "id": "c767b2b0-95cd-4892-b9ee-2efa2aaaf7cf",
   "metadata": {},
   "outputs": [],
   "source": []
  },
  {
   "cell_type": "code",
   "execution_count": null,
   "id": "89e0d8b4-9f08-4072-98fa-1def44212650",
   "metadata": {},
   "outputs": [],
   "source": []
  }
 ],
 "metadata": {
  "kernelspec": {
   "display_name": "Python 3 (ipykernel)",
   "language": "python",
   "name": "python3"
  },
  "language_info": {
   "codemirror_mode": {
    "name": "ipython",
    "version": 3
   },
   "file_extension": ".py",
   "mimetype": "text/x-python",
   "name": "python",
   "nbconvert_exporter": "python",
   "pygments_lexer": "ipython3",
   "version": "3.12.1"
  }
 },
 "nbformat": 4,
 "nbformat_minor": 5
}
